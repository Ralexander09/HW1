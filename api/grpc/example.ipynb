{
 "cells": [
  {
   "cell_type": "code",
   "execution_count": 1,
   "id": "f96aa7fc",
   "metadata": {},
   "outputs": [],
   "source": [
    "import main_pb2_grpc\n",
    "import main_pb2\n",
    "import grpc\n",
    "\n",
    "# Инициализируем Client\n",
    "channel = grpc.insecure_channel('localhost:50055')\n",
    "stub = main_pb2_grpc.ModelServiceStub(channel)"
   ]
  },
  {
   "cell_type": "code",
   "execution_count": 6,
   "id": "b1cdfd1c",
   "metadata": {},
   "outputs": [
    {
     "name": "stdout",
     "output_type": "stream",
     "text": [
      "model_types_response: model_types: \"RandomForest\"\n",
      "model_types: \"LinearRegression\"\n",
      "\n"
     ]
    }
   ],
   "source": [
    "# Смотрим на типы моделей\n",
    "model_types_response = stub.get_model_types(main_pb2.empty())\n",
    "print(\"model_types_response:\", model_types_response)"
   ]
  },
  {
   "cell_type": "code",
   "execution_count": 2,
   "id": "68d5f4f7",
   "metadata": {},
   "outputs": [
    {
     "name": "stdout",
     "output_type": "stream",
     "text": [
      "train_response: model_id: \"303670e2-f8a3-4818-969f-972a0818120b\"\n",
      "\n"
     ]
    }
   ],
   "source": [
    "# Обучаем модель\n",
    "train_response = stub.train_model(main_pb2.train_request(model_type = 'RandomForest', \n",
    "                                 hyperparams = {\"min_samples_split\": 3, \"min_samples_leaf\": 2},\n",
    "                                 data_path = 'data_example/data.csv'))\n",
    "print(\"train_response:\", train_response)"
   ]
  },
  {
   "cell_type": "code",
   "execution_count": 4,
   "id": "c73069d8",
   "metadata": {},
   "outputs": [
    {
     "name": "stdout",
     "output_type": "stream",
     "text": [
      "predict_response: prediction: 15.6841526\n",
      "prediction: 16.2777863\n",
      "prediction: 20.1701736\n",
      "prediction: 5.83109188\n",
      "prediction: 17.6454811\n",
      "prediction: 12.1483059\n",
      "prediction: 19.8046341\n",
      "prediction: 10.593358\n",
      "prediction: 13.1625719\n",
      "prediction: 14.4610014\n",
      "prediction: 8.35976219\n",
      "prediction: 10.5237417\n",
      "prediction: 14.3238668\n",
      "prediction: 3.88794041\n",
      "prediction: 12.8346052\n",
      "prediction: 15.6952782\n",
      "prediction: 5.32294893\n",
      "prediction: 14.9245281\n",
      "prediction: 11.5235357\n",
      "prediction: 14.1562481\n",
      "prediction: 18.1880341\n",
      "prediction: 11.3443413\n",
      "prediction: 9.34334087\n",
      "prediction: 19.859726\n",
      "prediction: 11.4987087\n",
      "prediction: 10.5757418\n",
      "prediction: 18.4885025\n",
      "prediction: 12.8346052\n",
      "prediction: 12.4867525\n",
      "prediction: 5.4370656\n",
      "prediction: 15.1009092\n",
      "prediction: 11.4987087\n",
      "prediction: 15.4759264\n",
      "prediction: 7.27390289\n",
      "prediction: 20.471632\n",
      "prediction: 14.1562481\n",
      "prediction: 10.5979586\n",
      "prediction: 19.0631313\n",
      "prediction: 12.4614859\n",
      "prediction: 8.49940109\n",
      "MSE: 9.06021595\n",
      "\n"
     ]
    }
   ],
   "source": [
    "# Предсказываем\n",
    "predict_response = stub.predict(main_pb2.predict_request(model_id = '303670e2-f8a3-4818-969f-972a0818120b', \n",
    "                                 data_path = 'data_example/data.csv'))\n",
    "print(\"predict_response:\", predict_response)"
   ]
  },
  {
   "cell_type": "code",
   "execution_count": 7,
   "id": "0bdbaa37",
   "metadata": {},
   "outputs": [
    {
     "name": "stdout",
     "output_type": "stream",
     "text": [
      "status_response: status: \"running\"\n",
      "models: \"303670e2-f8a3-4818-969f-972a0818120b\"\n",
      "\n"
     ]
    }
   ],
   "source": [
    "# Смотрим на статус сервера\n",
    "status_response = stub.service_status(main_pb2.empty())\n",
    "print(\"status_response:\", status_response)"
   ]
  },
  {
   "cell_type": "code",
   "execution_count": 8,
   "id": "78ab7460",
   "metadata": {},
   "outputs": [
    {
     "name": "stdout",
     "output_type": "stream",
     "text": [
      "delete_response: status: \"deleted\"\n",
      "\n"
     ]
    }
   ],
   "source": [
    "# Удаляем модель\n",
    "delete_response = stub.delete_model(main_pb2.delete_request(model_id = '303670e2-f8a3-4818-969f-972a0818120b'))\n",
    "print(\"delete_response:\", delete_response)"
   ]
  }
 ],
 "metadata": {
  "kernelspec": {
   "display_name": "Python 3 (ipykernel)",
   "language": "python",
   "name": "python3"
  },
  "language_info": {
   "codemirror_mode": {
    "name": "ipython",
    "version": 3
   },
   "file_extension": ".py",
   "mimetype": "text/x-python",
   "name": "python",
   "nbconvert_exporter": "python",
   "pygments_lexer": "ipython3",
   "version": "3.11.5"
  }
 },
 "nbformat": 4,
 "nbformat_minor": 5
}
